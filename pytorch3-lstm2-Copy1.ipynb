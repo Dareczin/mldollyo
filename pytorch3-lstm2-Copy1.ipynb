{
 "cells": [
  {
   "cell_type": "code",
   "execution_count": 8,
   "id": "02fa5119-4b93-4353-abc3-c7eec3e465a6",
   "metadata": {},
   "outputs": [
    {
     "data": {
      "application/vnd.jupyter.widget-view+json": {
       "model_id": "0589ab0277c04212b90e3d1bdead27e9",
       "version_major": 2,
       "version_minor": 0
      },
      "text/plain": [
       "Epoch 1/20:   0%|          | 0/2448 [00:00<?, ?batch/s]"
      ]
     },
     "metadata": {},
     "output_type": "display_data"
    },
    {
     "data": {
      "application/vnd.jupyter.widget-view+json": {
       "model_id": "607975d494a243c1bb1743d1884e761f",
       "version_major": 2,
       "version_minor": 0
      },
      "text/plain": [
       "Epoch 2/20:   0%|          | 0/2448 [00:00<?, ?batch/s]"
      ]
     },
     "metadata": {},
     "output_type": "display_data"
    },
    {
     "data": {
      "application/vnd.jupyter.widget-view+json": {
       "model_id": "e128f5b3b8104dcdbc1b478d4a862822",
       "version_major": 2,
       "version_minor": 0
      },
      "text/plain": [
       "Epoch 3/20:   0%|          | 0/2448 [00:00<?, ?batch/s]"
      ]
     },
     "metadata": {},
     "output_type": "display_data"
    },
    {
     "data": {
      "application/vnd.jupyter.widget-view+json": {
       "model_id": "34adcb9ba10b4e15a5c18f384928b2a1",
       "version_major": 2,
       "version_minor": 0
      },
      "text/plain": [
       "Epoch 4/20:   0%|          | 0/2448 [00:00<?, ?batch/s]"
      ]
     },
     "metadata": {},
     "output_type": "display_data"
    },
    {
     "data": {
      "application/vnd.jupyter.widget-view+json": {
       "model_id": "cdd2bf3962804baea626a73dd48d2065",
       "version_major": 2,
       "version_minor": 0
      },
      "text/plain": [
       "Epoch 5/20:   0%|          | 0/2448 [00:00<?, ?batch/s]"
      ]
     },
     "metadata": {},
     "output_type": "display_data"
    },
    {
     "data": {
      "application/vnd.jupyter.widget-view+json": {
       "model_id": "db46fcbaa93142cea74394ed8d734088",
       "version_major": 2,
       "version_minor": 0
      },
      "text/plain": [
       "Epoch 6/20:   0%|          | 0/2448 [00:00<?, ?batch/s]"
      ]
     },
     "metadata": {},
     "output_type": "display_data"
    },
    {
     "data": {
      "application/vnd.jupyter.widget-view+json": {
       "model_id": "7f6c6b0adb0d41b69c57c81fd66e4991",
       "version_major": 2,
       "version_minor": 0
      },
      "text/plain": [
       "Epoch 7/20:   0%|          | 0/2448 [00:00<?, ?batch/s]"
      ]
     },
     "metadata": {},
     "output_type": "display_data"
    },
    {
     "data": {
      "application/vnd.jupyter.widget-view+json": {
       "model_id": "451a46a28aa44991aae7dce97197327b",
       "version_major": 2,
       "version_minor": 0
      },
      "text/plain": [
       "Epoch 8/20:   0%|          | 0/2448 [00:00<?, ?batch/s]"
      ]
     },
     "metadata": {},
     "output_type": "display_data"
    },
    {
     "data": {
      "application/vnd.jupyter.widget-view+json": {
       "model_id": "4c43e31f70f34af9bb9c316166e5310a",
       "version_major": 2,
       "version_minor": 0
      },
      "text/plain": [
       "Epoch 9/20:   0%|          | 0/2448 [00:00<?, ?batch/s]"
      ]
     },
     "metadata": {},
     "output_type": "display_data"
    },
    {
     "data": {
      "application/vnd.jupyter.widget-view+json": {
       "model_id": "b28209a626d8432fba9970bd1716f977",
       "version_major": 2,
       "version_minor": 0
      },
      "text/plain": [
       "Epoch 10/20:   0%|          | 0/2448 [00:00<?, ?batch/s]"
      ]
     },
     "metadata": {},
     "output_type": "display_data"
    },
    {
     "data": {
      "application/vnd.jupyter.widget-view+json": {
       "model_id": "eb51a18c4fab4a6e8cae74b0085f00db",
       "version_major": 2,
       "version_minor": 0
      },
      "text/plain": [
       "Epoch 11/20:   0%|          | 0/2448 [00:00<?, ?batch/s]"
      ]
     },
     "metadata": {},
     "output_type": "display_data"
    },
    {
     "data": {
      "application/vnd.jupyter.widget-view+json": {
       "model_id": "ef6cc6dabf8840f4857da30061a20ad9",
       "version_major": 2,
       "version_minor": 0
      },
      "text/plain": [
       "Epoch 12/20:   0%|          | 0/2448 [00:00<?, ?batch/s]"
      ]
     },
     "metadata": {},
     "output_type": "display_data"
    },
    {
     "data": {
      "application/vnd.jupyter.widget-view+json": {
       "model_id": "6b60a1f30af64f76b8b9130d037eab22",
       "version_major": 2,
       "version_minor": 0
      },
      "text/plain": [
       "Epoch 13/20:   0%|          | 0/2448 [00:00<?, ?batch/s]"
      ]
     },
     "metadata": {},
     "output_type": "display_data"
    },
    {
     "data": {
      "application/vnd.jupyter.widget-view+json": {
       "model_id": "ec337949235d4731882a5926a390cc20",
       "version_major": 2,
       "version_minor": 0
      },
      "text/plain": [
       "Epoch 14/20:   0%|          | 0/2448 [00:00<?, ?batch/s]"
      ]
     },
     "metadata": {},
     "output_type": "display_data"
    },
    {
     "data": {
      "application/vnd.jupyter.widget-view+json": {
       "model_id": "408bb9a6106e4262bc2241efa7de2b35",
       "version_major": 2,
       "version_minor": 0
      },
      "text/plain": [
       "Epoch 15/20:   0%|          | 0/2448 [00:00<?, ?batch/s]"
      ]
     },
     "metadata": {},
     "output_type": "display_data"
    },
    {
     "data": {
      "application/vnd.jupyter.widget-view+json": {
       "model_id": "b024276efc474b22af1dae5655cee18f",
       "version_major": 2,
       "version_minor": 0
      },
      "text/plain": [
       "Epoch 16/20:   0%|          | 0/2448 [00:00<?, ?batch/s]"
      ]
     },
     "metadata": {},
     "output_type": "display_data"
    },
    {
     "data": {
      "application/vnd.jupyter.widget-view+json": {
       "model_id": "0313f59e21d54f97bd3dfc877cf6a65f",
       "version_major": 2,
       "version_minor": 0
      },
      "text/plain": [
       "Epoch 17/20:   0%|          | 0/2448 [00:00<?, ?batch/s]"
      ]
     },
     "metadata": {},
     "output_type": "display_data"
    },
    {
     "data": {
      "application/vnd.jupyter.widget-view+json": {
       "model_id": "d0a730286cc84834b92b81977a627f90",
       "version_major": 2,
       "version_minor": 0
      },
      "text/plain": [
       "Epoch 18/20:   0%|          | 0/2448 [00:00<?, ?batch/s]"
      ]
     },
     "metadata": {},
     "output_type": "display_data"
    },
    {
     "data": {
      "application/vnd.jupyter.widget-view+json": {
       "model_id": "efb63a7158ec44a58b2833bd32618748",
       "version_major": 2,
       "version_minor": 0
      },
      "text/plain": [
       "Epoch 19/20:   0%|          | 0/2448 [00:00<?, ?batch/s]"
      ]
     },
     "metadata": {},
     "output_type": "display_data"
    },
    {
     "data": {
      "application/vnd.jupyter.widget-view+json": {
       "model_id": "fd067c41027a43409f64da7517f34040",
       "version_major": 2,
       "version_minor": 0
      },
      "text/plain": [
       "Epoch 20/20:   0%|          | 0/2448 [00:00<?, ?batch/s]"
      ]
     },
     "metadata": {},
     "output_type": "display_data"
    },
    {
     "data": {
      "text/plain": [
       "['scaler.joblib']"
      ]
     },
     "execution_count": 8,
     "metadata": {},
     "output_type": "execute_result"
    }
   ],
   "source": [
    "import os\n",
    "import pandas as pd\n",
    "import numpy as np\n",
    "from sklearn.model_selection import train_test_split\n",
    "from sklearn.preprocessing import StandardScaler\n",
    "import torch\n",
    "import torch.nn as nn\n",
    "from torch.utils.data import DataLoader, TensorDataset\n",
    "from joblib import dump\n",
    "from tqdm.auto import tqdm\n",
    "\n",
    "# Definicja funkcji do tworzenia sekwencji\n",
    "def create_sequences_with_max_target(X, y, time_steps=100, future_window=100):\n",
    "    Xs, ys = [], []\n",
    "    for i in range(len(X) - time_steps - future_window):\n",
    "        Xs.append(X[i:(i + time_steps)])\n",
    "        ys.append(max(y[(i + time_steps):(i + time_steps + future_window)]))\n",
    "    return np.array(Xs), np.array(ys)\n",
    "\n",
    "# Definicja architektury modelu LSTM\n",
    "class LSTMModel(nn.Module):\n",
    "    def __init__(self, input_dim, hidden_dim, output_dim=1, num_layers=2, dropout_rate=0.3):\n",
    "        super(LSTMModel, self).__init__()\n",
    "        self.hidden_dim = hidden_dim\n",
    "        self.num_layers = num_layers\n",
    "        self.lstm = nn.LSTM(input_dim, hidden_dim, num_layers, dropout=dropout_rate, batch_first=True, bidirectional=True)\n",
    "        self.dropout = nn.Dropout(dropout_rate)\n",
    "        self.fc = nn.Linear(hidden_dim * 2, output_dim)\n",
    "    \n",
    "    def forward(self, x):\n",
    "        h0 = torch.zeros(self.num_layers * 2, x.size(0), self.hidden_dim).to(device)\n",
    "        c0 = torch.zeros(self.num_layers * 2, x.size(0), self.hidden_dim).to(device)\n",
    "        out, _ = self.lstm(x, (h0, c0))\n",
    "        out = self.dropout(out)\n",
    "        out = self.fc(out[:, -1, :])\n",
    "        return out\n",
    "\n",
    "# Sprawdzenie dostępności GPU\n",
    "device = torch.device(\"cuda\" if torch.cuda.is_available() else \"cpu\")\n",
    "\n",
    "# Wczytywanie danych\n",
    "directory = os.getcwd()\n",
    "feature_columns = ['resultant_acceleration_1', 'resultant_acceleration_2', \n",
    "                   'resultant_acceleration_3', 'resultant_velocity1', \n",
    "                   'resultant_velocity2', 'resultant_velocity3']\n",
    "df = pd.concat([pd.read_excel(os.path.join(directory, filename)) for filename in os.listdir(directory) if filename.endswith('.xlsx')], ignore_index=True)\n",
    "\n",
    "# Oddzielenie cech od zmiennej docelowej przed skalowaniem\n",
    "features = df[feature_columns]\n",
    "target = df['Total_GRF']\n",
    "\n",
    "# Skalowanie tylko cech\n",
    "scaler = StandardScaler()\n",
    "features_scaled = scaler.fit_transform(features)\n",
    "\n",
    "# Tworzenie sekwencji\n",
    "# Creating sequences\n",
    "time_steps = 100  # Number of time steps in a sequence, adjusted to capture 0.05 seconds of data\n",
    "future_window = 100  # Window size to look for the maximum value of Total_GRF, capturing 0.05 seconds\n",
    "\n",
    "X_seq, y_seq = create_sequences_with_max_target(features_scaled, target.values, time_steps, future_window)\n",
    "\n",
    "\n",
    "X_seq, y_seq = create_sequences_with_max_target(features_scaled, target.values, time_steps, future_window)\n",
    "\n",
    "\n",
    "# Podział na zestawy treningowe i testowe\n",
    "X_train, X_test, y_train, y_test = train_test_split(X_seq, y_seq, test_size=0.2, random_state=42)\n",
    "\n",
    "# Konwersja do tensorów PyTorch\n",
    "X_train_tensor = torch.tensor(X_train, dtype=torch.float32).to(device)\n",
    "X_test_tensor = torch.tensor(X_test, dtype=torch.float32).to(device)\n",
    "y_train_tensor = torch.tensor(y_train, dtype=torch.float32).to(device)\n",
    "y_test_tensor = torch.tensor(y_test, dtype=torch.float32).to(device)\n",
    "\n",
    "# DataLoader\n",
    "train_dataset = TensorDataset(X_train_tensor, y_train_tensor)\n",
    "test_dataset = TensorDataset(X_test_tensor, y_test_tensor)\n",
    "train_loader = DataLoader(train_dataset, batch_size=32, shuffle=True)\n",
    "test_loader = DataLoader(test_dataset, batch_size=32)\n",
    "\n",
    "# Inicjalizacja modelu\n",
    "model = LSTMModel(input_dim=X_train.shape[2], hidden_dim=50, num_layers=2, output_dim=1, dropout_rate=0.3).to(device)\n",
    "criterion = nn.MSELoss()\n",
    "optimizer = torch.optim.Adam(model.parameters(), lr=0.001)\n",
    "\n",
    "# Trenowanie modelu\n",
    "num_epochs = 20\n",
    "for epoch in range(num_epochs):\n",
    "    model.train()\n",
    "    with tqdm(train_loader, desc=f'Epoch {epoch+1}/{num_epochs}', unit='batch') as tepoch:\n",
    "        for xb, yb in tepoch:\n",
    "            optimizer.zero_grad()\n",
    "            output = model(xb)\n",
    "            loss = criterion(output, yb.unsqueeze(-1))\n",
    "            loss.backward()\n",
    "            optimizer.step()\n",
    "            tepoch.set_postfix(loss=loss.item())\n",
    "\n",
    "# Zapisanie modelu i parametrów skalowania\n",
    "torch.save({\n",
    "    'model_state_dict': model.state_dict(),\n",
    "}, 'model.pth')\n",
    "\n",
    "dump(scaler, 'scaler.joblib')\n"
   ]
  },
  {
   "cell_type": "code",
   "execution_count": 9,
   "id": "01b87582-f19b-4901-8997-699c72bd5231",
   "metadata": {},
   "outputs": [
    {
     "name": "stdout",
     "output_type": "stream",
     "text": [
      "MSE: 146618.609375, R^2: 0.6752497790649117\n"
     ]
    }
   ],
   "source": [
    "from sklearn.metrics import r2_score\n",
    "\n",
    "def evaluate_model(model, X_test, y_test):\n",
    "   \n",
    "    model.eval()  # Set the model to evaluation mode\n",
    "    with torch.no_grad():  # Disable gradient computation\n",
    "        predictions = model(X_test).view(-1)  # Get the model predictions\n",
    "    y_test = y_test.view(-1)  # Reshape the true values to match the model predictions\n",
    "\n",
    "    # Calculate the MSE and R^2\n",
    "    mse = nn.MSELoss()(predictions, y_test).item()\n",
    "    r2 = r2_score(y_test.cpu().numpy(), predictions.cpu().numpy())\n",
    "\n",
    "    return mse, r2\n",
    "\n",
    "# Ewaluacja modelu\n",
    "mse, r2 = evaluate_model(model, X_test_tensor, y_test_tensor)\n",
    "print(f'MSE: {mse}, R^2: {r2}')\n"
   ]
  },
  {
   "cell_type": "code",
   "execution_count": 4,
   "id": "08210cec-af15-4c0e-bfab-585fc23d8930",
   "metadata": {},
   "outputs": [
    {
     "ename": "NameError",
     "evalue": "name 'calculate_rmse' is not defined",
     "output_type": "error",
     "traceback": [
      "\u001b[1;31m---------------------------------------------------------------------------\u001b[0m",
      "\u001b[1;31mNameError\u001b[0m                                 Traceback (most recent call last)",
      "Cell \u001b[1;32mIn[4], line 11\u001b[0m\n\u001b[0;32m      8\u001b[0m     predictions_modified \u001b[38;5;241m=\u001b[39m model(X_test_modified)\u001b[38;5;241m.\u001b[39mview(\u001b[38;5;241m-\u001b[39m\u001b[38;5;241m1\u001b[39m)\n\u001b[0;32m      9\u001b[0m     predictions_modified_np \u001b[38;5;241m=\u001b[39m predictions_modified\u001b[38;5;241m.\u001b[39mcpu()\u001b[38;5;241m.\u001b[39mnumpy()\n\u001b[1;32m---> 11\u001b[0m modified_rmse \u001b[38;5;241m=\u001b[39m calculate_rmse(predictions_modified_np, targets_np)\n\u001b[0;32m     12\u001b[0m modified_r2 \u001b[38;5;241m=\u001b[39m r2_score(targets_np, predictions_modified_np)\n\u001b[0;32m     14\u001b[0m importances_rmse\u001b[38;5;241m.\u001b[39mappend(base_rmse \u001b[38;5;241m-\u001b[39m modified_rmse)\n",
      "\u001b[1;31mNameError\u001b[0m: name 'calculate_rmse' is not defined"
     ]
    }
   ],
   "source": [
    "importances_rmse = []\n",
    "importances_r2 = []\n",
    "\n",
    "for i in range(X_test_tensor.shape[2]):\n",
    "    X_test_modified = X_test_tensor.clone()\n",
    "    X_test_modified[:, :, i] = 0  # Zerowanie i-tej cechy\n",
    "    with torch.no_grad():\n",
    "        predictions_modified = model(X_test_modified).view(-1)\n",
    "        predictions_modified_np = predictions_modified.cpu().numpy()\n",
    "\n",
    "    modified_rmse = calculate_rmse(predictions_modified_np, targets_np)\n",
    "    modified_r2 = r2_score(targets_np, predictions_modified_np)\n",
    "    \n",
    "    importances_rmse.append(base_rmse - modified_rmse)\n",
    "    importances_r2.append(base_r2 - modified_r2)\n",
    "\n",
    "# Generowanie wykresów\n",
    "import matplotlib.pyplot as plt\n",
    "\n",
    "# Wykres dla RMSE\n",
    "plt.figure(figsize=(12, 6))\n",
    "plt.bar(feature_columns, importances_rmse, color='skyblue')\n",
    "plt.xlabel('Features')\n",
    "plt.ylabel('Importance (RMSE)')\n",
    "plt.title('Feature Importance Based on RMSE')\n",
    "plt.xticks(rotation=90)\n",
    "plt.savefig('averaged_permutation_importance_rmse_torch.png', bbox_inches='tight', dpi=300)  # Save Rmse figure\n",
    "plt.show()\n",
    "\n",
    "# Wykres dla R^2\n",
    "plt.figure(figsize=(12, 6))\n",
    "plt.bar(feature_columns, importances_r2, color='lightgreen')\n",
    "plt.xlabel('Features')\n",
    "plt.ylabel('Importance (R^2)')\n",
    "plt.title('Feature Importance Based on R^2')\n",
    "plt.savefig('averaged_permutation_importance_r2_torch.png', bbox_inches='tight', dpi=300)  # Save R² figure\n",
    "plt.xticks(rotation=90)\n",
    "plt.show()\n"
   ]
  },
  {
   "cell_type": "code",
   "execution_count": 10,
   "id": "4b14d996-4b24-41ba-bdf3-ce66d0c01909",
   "metadata": {},
   "outputs": [
    {
     "ename": "KeyboardInterrupt",
     "evalue": "",
     "output_type": "error",
     "traceback": [
      "\u001b[1;31m---------------------------------------------------------------------------\u001b[0m",
      "\u001b[1;31mKeyboardInterrupt\u001b[0m                         Traceback (most recent call last)",
      "Cell \u001b[1;32mIn[10], line 24\u001b[0m\n\u001b[0;32m     21\u001b[0m     \u001b[38;5;28;01mreturn\u001b[39;00m mean_rmse_changes, mean_r2_changes\n\u001b[0;32m     23\u001b[0m \u001b[38;5;66;03m# Analiza ważności cech\u001b[39;00m\n\u001b[1;32m---> 24\u001b[0m mean_rmse_changes, mean_r2_changes \u001b[38;5;241m=\u001b[39m feature_importance_analysis(model, X_test_tensor, y_test_tensor, num_runs\u001b[38;5;241m=\u001b[39m\u001b[38;5;241m10\u001b[39m)\n\u001b[0;32m     26\u001b[0m \u001b[38;5;66;03m# Generowanie wykresów\u001b[39;00m\n\u001b[0;32m     27\u001b[0m fig, ax \u001b[38;5;241m=\u001b[39m plt\u001b[38;5;241m.\u001b[39msubplots(\u001b[38;5;241m1\u001b[39m, \u001b[38;5;241m2\u001b[39m, figsize\u001b[38;5;241m=\u001b[39m(\u001b[38;5;241m20\u001b[39m, \u001b[38;5;241m8\u001b[39m))\n",
      "Cell \u001b[1;32mIn[10], line 13\u001b[0m, in \u001b[0;36mfeature_importance_analysis\u001b[1;34m(model, X_test, y_test, num_runs)\u001b[0m\n\u001b[0;32m     11\u001b[0m X_test_shuffled \u001b[38;5;241m=\u001b[39m X_test\u001b[38;5;241m.\u001b[39mclone()\n\u001b[0;32m     12\u001b[0m np\u001b[38;5;241m.\u001b[39mrandom\u001b[38;5;241m.\u001b[39mshuffle(X_test_shuffled[:, :, i]\u001b[38;5;241m.\u001b[39mnumpy())  \u001b[38;5;66;03m# Mieszanie danych dla i-tej cechy\u001b[39;00m\n\u001b[1;32m---> 13\u001b[0m shuffled_rmse, shuffled_r2 \u001b[38;5;241m=\u001b[39m evaluate_model(model, X_test_shuffled, y_test)\n\u001b[0;32m     14\u001b[0m rmse_changes[n, i] \u001b[38;5;241m=\u001b[39m shuffled_rmse \u001b[38;5;241m-\u001b[39m original_rmse\n\u001b[0;32m     15\u001b[0m r2_changes[n, i] \u001b[38;5;241m=\u001b[39m original_r2 \u001b[38;5;241m-\u001b[39m shuffled_r2  \u001b[38;5;66;03m# Uwaga: mniejszy R^2 oznacza większy wpływ\u001b[39;00m\n",
      "Cell \u001b[1;32mIn[9], line 7\u001b[0m, in \u001b[0;36mevaluate_model\u001b[1;34m(model, X_test, y_test)\u001b[0m\n\u001b[0;32m      5\u001b[0m model\u001b[38;5;241m.\u001b[39meval()  \u001b[38;5;66;03m# Set the model to evaluation mode\u001b[39;00m\n\u001b[0;32m      6\u001b[0m \u001b[38;5;28;01mwith\u001b[39;00m torch\u001b[38;5;241m.\u001b[39mno_grad():  \u001b[38;5;66;03m# Disable gradient computation\u001b[39;00m\n\u001b[1;32m----> 7\u001b[0m     predictions \u001b[38;5;241m=\u001b[39m model(X_test)\u001b[38;5;241m.\u001b[39mview(\u001b[38;5;241m-\u001b[39m\u001b[38;5;241m1\u001b[39m)  \u001b[38;5;66;03m# Get the model predictions\u001b[39;00m\n\u001b[0;32m      8\u001b[0m y_test \u001b[38;5;241m=\u001b[39m y_test\u001b[38;5;241m.\u001b[39mview(\u001b[38;5;241m-\u001b[39m\u001b[38;5;241m1\u001b[39m)  \u001b[38;5;66;03m# Reshape the true values to match the model predictions\u001b[39;00m\n\u001b[0;32m     10\u001b[0m \u001b[38;5;66;03m# Calculate the MSE and R^2\u001b[39;00m\n",
      "File \u001b[1;32m~\\anaconda3\\Lib\\site-packages\\torch\\nn\\modules\\module.py:1511\u001b[0m, in \u001b[0;36mModule._wrapped_call_impl\u001b[1;34m(self, *args, **kwargs)\u001b[0m\n\u001b[0;32m   1509\u001b[0m     \u001b[38;5;28;01mreturn\u001b[39;00m \u001b[38;5;28mself\u001b[39m\u001b[38;5;241m.\u001b[39m_compiled_call_impl(\u001b[38;5;241m*\u001b[39margs, \u001b[38;5;241m*\u001b[39m\u001b[38;5;241m*\u001b[39mkwargs)  \u001b[38;5;66;03m# type: ignore[misc]\u001b[39;00m\n\u001b[0;32m   1510\u001b[0m \u001b[38;5;28;01melse\u001b[39;00m:\n\u001b[1;32m-> 1511\u001b[0m     \u001b[38;5;28;01mreturn\u001b[39;00m \u001b[38;5;28mself\u001b[39m\u001b[38;5;241m.\u001b[39m_call_impl(\u001b[38;5;241m*\u001b[39margs, \u001b[38;5;241m*\u001b[39m\u001b[38;5;241m*\u001b[39mkwargs)\n",
      "File \u001b[1;32m~\\anaconda3\\Lib\\site-packages\\torch\\nn\\modules\\module.py:1520\u001b[0m, in \u001b[0;36mModule._call_impl\u001b[1;34m(self, *args, **kwargs)\u001b[0m\n\u001b[0;32m   1515\u001b[0m \u001b[38;5;66;03m# If we don't have any hooks, we want to skip the rest of the logic in\u001b[39;00m\n\u001b[0;32m   1516\u001b[0m \u001b[38;5;66;03m# this function, and just call forward.\u001b[39;00m\n\u001b[0;32m   1517\u001b[0m \u001b[38;5;28;01mif\u001b[39;00m \u001b[38;5;129;01mnot\u001b[39;00m (\u001b[38;5;28mself\u001b[39m\u001b[38;5;241m.\u001b[39m_backward_hooks \u001b[38;5;129;01mor\u001b[39;00m \u001b[38;5;28mself\u001b[39m\u001b[38;5;241m.\u001b[39m_backward_pre_hooks \u001b[38;5;129;01mor\u001b[39;00m \u001b[38;5;28mself\u001b[39m\u001b[38;5;241m.\u001b[39m_forward_hooks \u001b[38;5;129;01mor\u001b[39;00m \u001b[38;5;28mself\u001b[39m\u001b[38;5;241m.\u001b[39m_forward_pre_hooks\n\u001b[0;32m   1518\u001b[0m         \u001b[38;5;129;01mor\u001b[39;00m _global_backward_pre_hooks \u001b[38;5;129;01mor\u001b[39;00m _global_backward_hooks\n\u001b[0;32m   1519\u001b[0m         \u001b[38;5;129;01mor\u001b[39;00m _global_forward_hooks \u001b[38;5;129;01mor\u001b[39;00m _global_forward_pre_hooks):\n\u001b[1;32m-> 1520\u001b[0m     \u001b[38;5;28;01mreturn\u001b[39;00m forward_call(\u001b[38;5;241m*\u001b[39margs, \u001b[38;5;241m*\u001b[39m\u001b[38;5;241m*\u001b[39mkwargs)\n\u001b[0;32m   1522\u001b[0m \u001b[38;5;28;01mtry\u001b[39;00m:\n\u001b[0;32m   1523\u001b[0m     result \u001b[38;5;241m=\u001b[39m \u001b[38;5;28;01mNone\u001b[39;00m\n",
      "Cell \u001b[1;32mIn[8], line 33\u001b[0m, in \u001b[0;36mLSTMModel.forward\u001b[1;34m(self, x)\u001b[0m\n\u001b[0;32m     31\u001b[0m h0 \u001b[38;5;241m=\u001b[39m torch\u001b[38;5;241m.\u001b[39mzeros(\u001b[38;5;28mself\u001b[39m\u001b[38;5;241m.\u001b[39mnum_layers \u001b[38;5;241m*\u001b[39m \u001b[38;5;241m2\u001b[39m, x\u001b[38;5;241m.\u001b[39msize(\u001b[38;5;241m0\u001b[39m), \u001b[38;5;28mself\u001b[39m\u001b[38;5;241m.\u001b[39mhidden_dim)\u001b[38;5;241m.\u001b[39mto(device)\n\u001b[0;32m     32\u001b[0m c0 \u001b[38;5;241m=\u001b[39m torch\u001b[38;5;241m.\u001b[39mzeros(\u001b[38;5;28mself\u001b[39m\u001b[38;5;241m.\u001b[39mnum_layers \u001b[38;5;241m*\u001b[39m \u001b[38;5;241m2\u001b[39m, x\u001b[38;5;241m.\u001b[39msize(\u001b[38;5;241m0\u001b[39m), \u001b[38;5;28mself\u001b[39m\u001b[38;5;241m.\u001b[39mhidden_dim)\u001b[38;5;241m.\u001b[39mto(device)\n\u001b[1;32m---> 33\u001b[0m out, _ \u001b[38;5;241m=\u001b[39m \u001b[38;5;28mself\u001b[39m\u001b[38;5;241m.\u001b[39mlstm(x, (h0, c0))\n\u001b[0;32m     34\u001b[0m out \u001b[38;5;241m=\u001b[39m \u001b[38;5;28mself\u001b[39m\u001b[38;5;241m.\u001b[39mdropout(out)\n\u001b[0;32m     35\u001b[0m out \u001b[38;5;241m=\u001b[39m \u001b[38;5;28mself\u001b[39m\u001b[38;5;241m.\u001b[39mfc(out[:, \u001b[38;5;241m-\u001b[39m\u001b[38;5;241m1\u001b[39m, :])\n",
      "File \u001b[1;32m~\\anaconda3\\Lib\\site-packages\\torch\\nn\\modules\\module.py:1511\u001b[0m, in \u001b[0;36mModule._wrapped_call_impl\u001b[1;34m(self, *args, **kwargs)\u001b[0m\n\u001b[0;32m   1509\u001b[0m     \u001b[38;5;28;01mreturn\u001b[39;00m \u001b[38;5;28mself\u001b[39m\u001b[38;5;241m.\u001b[39m_compiled_call_impl(\u001b[38;5;241m*\u001b[39margs, \u001b[38;5;241m*\u001b[39m\u001b[38;5;241m*\u001b[39mkwargs)  \u001b[38;5;66;03m# type: ignore[misc]\u001b[39;00m\n\u001b[0;32m   1510\u001b[0m \u001b[38;5;28;01melse\u001b[39;00m:\n\u001b[1;32m-> 1511\u001b[0m     \u001b[38;5;28;01mreturn\u001b[39;00m \u001b[38;5;28mself\u001b[39m\u001b[38;5;241m.\u001b[39m_call_impl(\u001b[38;5;241m*\u001b[39margs, \u001b[38;5;241m*\u001b[39m\u001b[38;5;241m*\u001b[39mkwargs)\n",
      "File \u001b[1;32m~\\anaconda3\\Lib\\site-packages\\torch\\nn\\modules\\module.py:1520\u001b[0m, in \u001b[0;36mModule._call_impl\u001b[1;34m(self, *args, **kwargs)\u001b[0m\n\u001b[0;32m   1515\u001b[0m \u001b[38;5;66;03m# If we don't have any hooks, we want to skip the rest of the logic in\u001b[39;00m\n\u001b[0;32m   1516\u001b[0m \u001b[38;5;66;03m# this function, and just call forward.\u001b[39;00m\n\u001b[0;32m   1517\u001b[0m \u001b[38;5;28;01mif\u001b[39;00m \u001b[38;5;129;01mnot\u001b[39;00m (\u001b[38;5;28mself\u001b[39m\u001b[38;5;241m.\u001b[39m_backward_hooks \u001b[38;5;129;01mor\u001b[39;00m \u001b[38;5;28mself\u001b[39m\u001b[38;5;241m.\u001b[39m_backward_pre_hooks \u001b[38;5;129;01mor\u001b[39;00m \u001b[38;5;28mself\u001b[39m\u001b[38;5;241m.\u001b[39m_forward_hooks \u001b[38;5;129;01mor\u001b[39;00m \u001b[38;5;28mself\u001b[39m\u001b[38;5;241m.\u001b[39m_forward_pre_hooks\n\u001b[0;32m   1518\u001b[0m         \u001b[38;5;129;01mor\u001b[39;00m _global_backward_pre_hooks \u001b[38;5;129;01mor\u001b[39;00m _global_backward_hooks\n\u001b[0;32m   1519\u001b[0m         \u001b[38;5;129;01mor\u001b[39;00m _global_forward_hooks \u001b[38;5;129;01mor\u001b[39;00m _global_forward_pre_hooks):\n\u001b[1;32m-> 1520\u001b[0m     \u001b[38;5;28;01mreturn\u001b[39;00m forward_call(\u001b[38;5;241m*\u001b[39margs, \u001b[38;5;241m*\u001b[39m\u001b[38;5;241m*\u001b[39mkwargs)\n\u001b[0;32m   1522\u001b[0m \u001b[38;5;28;01mtry\u001b[39;00m:\n\u001b[0;32m   1523\u001b[0m     result \u001b[38;5;241m=\u001b[39m \u001b[38;5;28;01mNone\u001b[39;00m\n",
      "File \u001b[1;32m~\\anaconda3\\Lib\\site-packages\\torch\\nn\\modules\\rnn.py:878\u001b[0m, in \u001b[0;36mLSTM.forward\u001b[1;34m(self, input, hx)\u001b[0m\n\u001b[0;32m    875\u001b[0m         hx \u001b[38;5;241m=\u001b[39m \u001b[38;5;28mself\u001b[39m\u001b[38;5;241m.\u001b[39mpermute_hidden(hx, sorted_indices)\n\u001b[0;32m    877\u001b[0m \u001b[38;5;28;01mif\u001b[39;00m batch_sizes \u001b[38;5;129;01mis\u001b[39;00m \u001b[38;5;28;01mNone\u001b[39;00m:\n\u001b[1;32m--> 878\u001b[0m     result \u001b[38;5;241m=\u001b[39m _VF\u001b[38;5;241m.\u001b[39mlstm(\u001b[38;5;28minput\u001b[39m, hx, \u001b[38;5;28mself\u001b[39m\u001b[38;5;241m.\u001b[39m_flat_weights, \u001b[38;5;28mself\u001b[39m\u001b[38;5;241m.\u001b[39mbias, \u001b[38;5;28mself\u001b[39m\u001b[38;5;241m.\u001b[39mnum_layers,\n\u001b[0;32m    879\u001b[0m                       \u001b[38;5;28mself\u001b[39m\u001b[38;5;241m.\u001b[39mdropout, \u001b[38;5;28mself\u001b[39m\u001b[38;5;241m.\u001b[39mtraining, \u001b[38;5;28mself\u001b[39m\u001b[38;5;241m.\u001b[39mbidirectional, \u001b[38;5;28mself\u001b[39m\u001b[38;5;241m.\u001b[39mbatch_first)\n\u001b[0;32m    880\u001b[0m \u001b[38;5;28;01melse\u001b[39;00m:\n\u001b[0;32m    881\u001b[0m     result \u001b[38;5;241m=\u001b[39m _VF\u001b[38;5;241m.\u001b[39mlstm(\u001b[38;5;28minput\u001b[39m, batch_sizes, hx, \u001b[38;5;28mself\u001b[39m\u001b[38;5;241m.\u001b[39m_flat_weights, \u001b[38;5;28mself\u001b[39m\u001b[38;5;241m.\u001b[39mbias,\n\u001b[0;32m    882\u001b[0m                       \u001b[38;5;28mself\u001b[39m\u001b[38;5;241m.\u001b[39mnum_layers, \u001b[38;5;28mself\u001b[39m\u001b[38;5;241m.\u001b[39mdropout, \u001b[38;5;28mself\u001b[39m\u001b[38;5;241m.\u001b[39mtraining, \u001b[38;5;28mself\u001b[39m\u001b[38;5;241m.\u001b[39mbidirectional)\n",
      "\u001b[1;31mKeyboardInterrupt\u001b[0m: "
     ]
    }
   ],
   "source": [
    "import numpy as np\n",
    "import matplotlib.pyplot as plt\n",
    "\n",
    "def feature_importance_analysis(model, X_test, y_test, num_runs=10):\n",
    "    original_rmse, original_r2 = evaluate_model(model, X_test, y_test)\n",
    "    rmse_changes = np.zeros((num_runs, len(feature_columns)))\n",
    "    r2_changes = np.zeros((num_runs, len(feature_columns)))\n",
    "\n",
    "    for n in range(num_runs):\n",
    "        for i, feature in enumerate(feature_columns):\n",
    "            X_test_shuffled = X_test.clone()\n",
    "            np.random.shuffle(X_test_shuffled[:, :, i].numpy())  # Mieszanie danych dla i-tej cechy\n",
    "            shuffled_rmse, shuffled_r2 = evaluate_model(model, X_test_shuffled, y_test)\n",
    "            rmse_changes[n, i] = shuffled_rmse - original_rmse\n",
    "            r2_changes[n, i] = original_r2 - shuffled_r2  # Uwaga: mniejszy R^2 oznacza większy wpływ\n",
    "\n",
    "    # Obliczanie średniej zmiany dla każdej cechy\n",
    "    mean_rmse_changes = np.mean(rmse_changes, axis=0)\n",
    "    mean_r2_changes = np.mean(r2_changes, axis=0)\n",
    "\n",
    "    return mean_rmse_changes, mean_r2_changes\n",
    "\n",
    "# Analiza ważności cech\n",
    "mean_rmse_changes, mean_r2_changes = feature_importance_analysis(model, X_test_tensor, y_test_tensor, num_runs=10)\n",
    "\n",
    "# Generowanie wykresów\n",
    "fig, ax = plt.subplots(1, 2, figsize=(20, 8))\n",
    "\n",
    "# Wykres dla RMSE\n",
    "ax[0].bar(feature_columns, mean_rmse_changes, color='skyblue')\n",
    "ax[0].set_title('Feature Importance based on RMSE Change')\n",
    "ax[0].set_xticklabels(feature_columns, rotation=90)\n",
    "ax[0].set_ylabel('Average Increase in RMSE')\n",
    "ax[0].set_xlabel('Feature')\n",
    "\n",
    "# Wykres dla R^2\n",
    "ax[1].bar(feature_columns, mean_r2_changes, color='salmon')\n",
    "ax[1].set_title('Feature Importance based on R^2 Change')\n",
    "ax[1].set_xticklabels(feature_columns, rotation=90)\n",
    "ax[1].set_ylabel('Average Decrease in R^2')\n",
    "ax[1].set_xlabel('Feature')\n",
    "\n",
    "plt.tight_layout()\n",
    "plt.show()\n",
    "print(\"Feature Importance based on RMSE Change:\")\n",
    "for feature, change in zip(feature_columns, mean_rmse_changes):\n",
    "    print(f\"{feature}: {change:.4f}\")\n",
    "\n",
    "print(\"\\nFeature Importance based on R^2 Change:\")\n",
    "for feature, change in zip(feature_columns, mean_r2_changes):\n",
    "    print(f\"{feature}: {change:.4f}\")"
   ]
  },
  {
   "cell_type": "code",
   "execution_count": 11,
   "id": "ba28cc3a-46c4-4372-837f-fa2d161716c6",
   "metadata": {},
   "outputs": [
    {
     "data": {
      "application/vnd.jupyter.widget-view+json": {
       "model_id": "b4bcea354f814e44a062cdb254f12ea3",
       "version_major": 2,
       "version_minor": 0
      },
      "text/plain": [
       "Overall Progress:   0%|          | 0/10 [00:00<?, ?it/s]"
      ]
     },
     "metadata": {},
     "output_type": "display_data"
    },
    {
     "data": {
      "application/vnd.jupyter.widget-view+json": {
       "model_id": "",
       "version_major": 2,
       "version_minor": 0
      },
      "text/plain": [
       "Feature Shuffling:   0%|          | 0/6 [00:00<?, ?it/s]"
      ]
     },
     "metadata": {},
     "output_type": "display_data"
    },
    {
     "data": {
      "application/vnd.jupyter.widget-view+json": {
       "model_id": "",
       "version_major": 2,
       "version_minor": 0
      },
      "text/plain": [
       "Feature Shuffling:   0%|          | 0/6 [00:00<?, ?it/s]"
      ]
     },
     "metadata": {},
     "output_type": "display_data"
    },
    {
     "data": {
      "application/vnd.jupyter.widget-view+json": {
       "model_id": "",
       "version_major": 2,
       "version_minor": 0
      },
      "text/plain": [
       "Feature Shuffling:   0%|          | 0/6 [00:00<?, ?it/s]"
      ]
     },
     "metadata": {},
     "output_type": "display_data"
    },
    {
     "data": {
      "application/vnd.jupyter.widget-view+json": {
       "model_id": "",
       "version_major": 2,
       "version_minor": 0
      },
      "text/plain": [
       "Feature Shuffling:   0%|          | 0/6 [00:00<?, ?it/s]"
      ]
     },
     "metadata": {},
     "output_type": "display_data"
    },
    {
     "data": {
      "application/vnd.jupyter.widget-view+json": {
       "model_id": "",
       "version_major": 2,
       "version_minor": 0
      },
      "text/plain": [
       "Feature Shuffling:   0%|          | 0/6 [00:00<?, ?it/s]"
      ]
     },
     "metadata": {},
     "output_type": "display_data"
    },
    {
     "data": {
      "application/vnd.jupyter.widget-view+json": {
       "model_id": "",
       "version_major": 2,
       "version_minor": 0
      },
      "text/plain": [
       "Feature Shuffling:   0%|          | 0/6 [00:00<?, ?it/s]"
      ]
     },
     "metadata": {},
     "output_type": "display_data"
    },
    {
     "data": {
      "application/vnd.jupyter.widget-view+json": {
       "model_id": "",
       "version_major": 2,
       "version_minor": 0
      },
      "text/plain": [
       "Feature Shuffling:   0%|          | 0/6 [00:00<?, ?it/s]"
      ]
     },
     "metadata": {},
     "output_type": "display_data"
    },
    {
     "data": {
      "application/vnd.jupyter.widget-view+json": {
       "model_id": "",
       "version_major": 2,
       "version_minor": 0
      },
      "text/plain": [
       "Feature Shuffling:   0%|          | 0/6 [00:00<?, ?it/s]"
      ]
     },
     "metadata": {},
     "output_type": "display_data"
    },
    {
     "data": {
      "application/vnd.jupyter.widget-view+json": {
       "model_id": "",
       "version_major": 2,
       "version_minor": 0
      },
      "text/plain": [
       "Feature Shuffling:   0%|          | 0/6 [00:00<?, ?it/s]"
      ]
     },
     "metadata": {},
     "output_type": "display_data"
    },
    {
     "data": {
      "application/vnd.jupyter.widget-view+json": {
       "model_id": "",
       "version_major": 2,
       "version_minor": 0
      },
      "text/plain": [
       "Feature Shuffling:   0%|          | 0/6 [00:00<?, ?it/s]"
      ]
     },
     "metadata": {},
     "output_type": "display_data"
    },
    {
     "name": "stdout",
     "output_type": "stream",
     "text": [
      "Feature Importances based on RMSE:\n",
      "resultant_acceleration_1: 80194.7391\n",
      "resultant_acceleration_2: 120319.5844\n",
      "resultant_acceleration_3: 122136.7625\n",
      "resultant_velocity1: 193171.2906\n",
      "resultant_velocity2: 380438.7219\n",
      "resultant_velocity3: 279309.2812\n",
      "\n",
      "Feature Importances based on R^2:\n",
      "resultant_acceleration_1: 0.1776\n",
      "resultant_acceleration_2: 0.2665\n",
      "resultant_acceleration_3: 0.2705\n",
      "resultant_velocity1: 0.4279\n",
      "resultant_velocity2: 0.8426\n",
      "resultant_velocity3: 0.6187\n"
     ]
    },
    {
     "name": "stderr",
     "output_type": "stream",
     "text": [
      "C:\\Users\\Lenovo\\AppData\\Local\\Temp\\ipykernel_20592\\1323193532.py:62: UserWarning: set_ticklabels() should only be used with a fixed number of ticks, i.e. after set_ticks() or using a FixedLocator.\n",
      "  ax[0].set_xticklabels(feature_columns, rotation=90)\n",
      "C:\\Users\\Lenovo\\AppData\\Local\\Temp\\ipykernel_20592\\1323193532.py:70: UserWarning: set_ticklabels() should only be used with a fixed number of ticks, i.e. after set_ticks() or using a FixedLocator.\n",
      "  ax[1].set_xticklabels(feature_columns, rotation=90)\n"
     ]
    },
    {
     "data": {
      "image/png": "[encoded data removed]",
      "text/plain": [
       "<Figure size 2000x800 with 2 Axes>"
      ]
     },
     "metadata": {},
     "output_type": "display_data"
    },
    {
     "name": "stdout",
     "output_type": "stream",
     "text": [
      "Feature Importance based on RMSE Change:\n",
      "resultant_acceleration_1: 80194.7391\n",
      "resultant_acceleration_2: 120319.5844\n",
      "resultant_acceleration_3: 122136.7625\n",
      "resultant_velocity1: 193171.2906\n",
      "resultant_velocity2: 380438.7219\n",
      "resultant_velocity3: 279309.2812\n",
      "\n",
      "Feature Importance based on R^2 Change:\n",
      "resultant_acceleration_1: 0.1776\n",
      "resultant_acceleration_2: 0.2665\n",
      "resultant_acceleration_3: 0.2705\n",
      "resultant_velocity1: 0.4279\n",
      "resultant_velocity2: 0.8426\n",
      "resultant_velocity3: 0.6187\n"
     ]
    }
   ],
   "source": [
    "from tqdm.notebook import tqdm\n",
    "import numpy as np\n",
    "import matplotlib.pyplot as plt\n",
    "from sklearn.metrics import r2_score\n",
    "import torch.nn as nn\n",
    "\n",
    "def evaluate_model(model, X_test, y_test):\n",
    "    model.eval()  # Ustawia model w tryb ewaluacji\n",
    "    with torch.no_grad():  # Wyłącza obliczanie gradientów\n",
    "        predictions = model(X_test).view(-1)\n",
    "    y_test = y_test.view(-1)\n",
    "    \n",
    "    # Obliczenie MSE\n",
    "    mse = nn.MSELoss()(predictions, y_test).item()\n",
    "\n",
    "    # Konwersja tensorów PyTorch na tablice NumPy do obliczenia R^2\n",
    "    predictions_np = predictions.cpu().numpy()\n",
    "    y_test_np = y_test.cpu().numpy()\n",
    "    \n",
    "    # Obliczenie R^2\n",
    "    r2 = r2_score(y_test_np, predictions_np)\n",
    "    \n",
    "    return mse, r2\n",
    "\n",
    "def feature_importance_analysis(model, X_test, y_test, num_runs=10):\n",
    "    original_rmse, original_r2 = evaluate_model(model, X_test, y_test)\n",
    "    rmse_changes = np.zeros((num_runs, len(feature_columns)))\n",
    "    r2_changes = np.zeros((num_runs, len(feature_columns)))\n",
    "\n",
    "    for n in tqdm(range(num_runs), desc='Overall Progress'):\n",
    "        for i, feature in enumerate(tqdm(feature_columns, desc='Feature Shuffling', leave=False)):\n",
    "            X_test_shuffled = X_test.clone()\n",
    "            np.random.shuffle(X_test_shuffled[:, :, i].numpy())  # Mieszanie danych dla i-tej cechy\n",
    "            shuffled_rmse, shuffled_r2 = evaluate_model(model, X_test_shuffled, y_test)\n",
    "            rmse_changes[n, i] = shuffled_rmse - original_rmse\n",
    "            r2_changes[n, i] = original_r2 - shuffled_r2  # Uwaga: mniejszy R^2 oznacza większy wpływ\n",
    "\n",
    "    # Obliczanie średniej zmiany dla każdej cechy\n",
    "    mean_rmse_changes = np.mean(rmse_changes, axis=0)\n",
    "    mean_r2_changes = np.mean(r2_changes, axis=0)\n",
    "\n",
    "    return mean_rmse_changes, mean_r2_changes\n",
    "\n",
    "# Analiza ważności cech\n",
    "mean_rmse_changes, mean_r2_changes = feature_importance_analysis(model, X_test_tensor, y_test_tensor, num_runs=10)\n",
    "\n",
    "# Wyświetlanie wyników\n",
    "print(\"Feature Importances based on RMSE:\")\n",
    "for feature, change in zip(feature_columns, mean_rmse_changes):\n",
    "    print(f\"{feature}: {change:.4f}\")\n",
    "\n",
    "print(\"\\nFeature Importances based on R^2:\")\n",
    "for feature, change in zip(feature_columns, mean_r2_changes):\n",
    "    print(f\"{feature}: {change:.4f}\")\n",
    "\n",
    "# Generowanie wykresów\n",
    "fig, ax = plt.subplots(1, 2, figsize=(20, 8))\n",
    "\n",
    "# Wykres dla RMSE\n",
    "ax[0].bar(feature_columns, mean_rmse_changes, color='skyblue')\n",
    "ax[0].set_title('Feature Importance based on RMSE Change')\n",
    "ax[0].set_xticklabels(feature_columns, rotation=90)\n",
    "ax[0].set_ylabel('Average Increase in RMSE')\n",
    "ax[0].set_xlabel('Feature')\n",
    "plt.savefig('averaged_Feature Importance based on RMSE_torch.png', bbox_inches='tight', dpi=300)  # Save R² figure\n",
    "# Wykres dla R^2\n",
    "ax[1].bar(feature_columns, mean_r2_changes, color='salmon')\n",
    "ax[1].set_title('Feature Importance based on R^2 Change')\n",
    "\n",
    "ax[1].set_xticklabels(feature_columns, rotation=90)\n",
    "ax[1].set_ylabel('Average Decrease in R^2')\n",
    "ax[1].set_xlabel('Feature')\n",
    "\n",
    "plt.tight_layout()\n",
    "plt.savefig('averaged_Feature Importance based on R^2 Change_torch.png', bbox_inches='tight', dpi=300)  # Save R² figure\n",
    "plt.show()\n",
    "\n",
    "print(\"Feature Importance based on RMSE Change:\")\n",
    "for feature, change in zip(feature_columns, mean_rmse_changes):\n",
    "    print(f\"{feature}: {change:.4f}\")\n",
    "\n",
    "print(\"\\nFeature Importance based on R^2 Change:\")\n",
    "for feature, change in zip(feature_columns, mean_r2_changes):\n",
    "    print(f\"{feature}: {change:.4f}\")"
   ]
  },
  {
   "cell_type": "code",
   "execution_count": null,
   "id": "dac3173c-4746-42a7-ad60-92ae31a1585f",
   "metadata": {},
   "outputs": [],
   "source": []
  },
  {
   "cell_type": "code",
   "execution_count": 16,
   "id": "3d4a197e-f6c7-41d6-bd46-0fed0d063148",
   "metadata": {},
   "outputs": [
    {
     "data": {
      "text/plain": [
       "LSTMModel(\n",
       "  (lstm): LSTM(6, 50, num_layers=2, batch_first=True, dropout=0.3, bidirectional=True)\n",
       "  (dropout): Dropout(p=0.3, inplace=False)\n",
       "  (fc): Linear(in_features=100, out_features=1, bias=True)\n",
       ")"
      ]
     },
     "execution_count": 16,
     "metadata": {},
     "output_type": "execute_result"
    }
   ],
   "source": [
    "import torch\n",
    "import torch.nn as nn\n",
    "\n",
    "class LSTMModel(nn.Module):\n",
    "    def __init__(self, input_dim, hidden_dim, output_dim=1, num_layers=2, dropout_rate=0.3):\n",
    "        super(LSTMModel, self).__init__()\n",
    "        self.hidden_dim = hidden_dim\n",
    "        self.num_layers = num_layers\n",
    "        self.lstm = nn.LSTM(input_dim, hidden_dim, num_layers, dropout=dropout_rate, batch_first=True, bidirectional=True)\n",
    "        self.dropout = nn.Dropout(dropout_rate)\n",
    "        self.fc = nn.Linear(hidden_dim * 2, output_dim)\n",
    "    \n",
    "    def forward(self, x):\n",
    "        h0 = torch.zeros(self.num_layers * 2, x.size(0), self.hidden_dim).to(device)\n",
    "        c0 = torch.zeros(self.num_layers * 2, x.size(0), self.hidden_dim).to(device)\n",
    "        out, _ = self.lstm(x, (h0, c0))\n",
    "        out = self.dropout(out)\n",
    "        out = self.fc(out[:, -1, :])\n",
    "        return out\n",
    "\n",
    "device = torch.device(\"cuda\" if torch.cuda.is_available() else \"cpu\")\n",
    "\n",
    "# Assuming all necessary imports are already done\n",
    "\n",
    "# Inicjalizacja modelu z odpowiednimi wymiarami\n",
    "# Since your model is bidirectional, hidden_dim is effectively doubled when connecting to the fully connected layer\n",
    "model = LSTMModel(input_dim=6, hidden_dim=50, num_layers=2, output_dim=1, dropout_rate=0.3)\n",
    "\n",
    "# Loading the checkpoint\n",
    "checkpoint = torch.load('model.pth', map_location=device)\n",
    "\n",
    "# Loading the model state\n",
    "model.load_state_dict(checkpoint['model_state_dict'])\n",
    "\n",
    "# Moving the model to the specified device (GPU or CPU)\n",
    "model.to(device)\n",
    "\n",
    "# Ensure the model is in evaluation mode if you're not continuing training\n",
    "model.eval()\n",
    "\n"
   ]
  },
  {
   "cell_type": "code",
   "execution_count": 17,
   "id": "348a6295-fd3a-4589-8f1c-7f59f5f86dd6",
   "metadata": {},
   "outputs": [
    {
     "name": "stdout",
     "output_type": "stream",
     "text": [
      "dict_keys(['model_state_dict'])\n"
     ]
    }
   ],
   "source": [
    "# Załaduj checkpoint\n",
    "checkpoint_path = 'model.pth'\n",
    "checkpoint = torch.load(checkpoint_path, map_location=device)\n",
    "\n",
    "# Wydrukuj klucze dostępne w checkpoint\n",
    "print(checkpoint.keys())\n",
    "\n"
   ]
  },
  {
   "cell_type": "code",
   "execution_count": 18,
   "id": "5fa33b14-4916-4fd8-a876-09eaaef02e89",
   "metadata": {},
   "outputs": [
    {
     "data": {
      "text/plain": [
       "LSTMModel(\n",
       "  (lstm): LSTM(6, 50, num_layers=2, batch_first=True, dropout=0.3, bidirectional=True)\n",
       "  (dropout): Dropout(p=0.3, inplace=False)\n",
       "  (fc): Linear(in_features=100, out_features=1, bias=True)\n",
       ")"
      ]
     },
     "execution_count": 18,
     "metadata": {},
     "output_type": "execute_result"
    }
   ],
   "source": [
    "# Odtworzenie modelu\n",
    "model = LSTMModel(input_dim=6, hidden_dim=50, num_layers=2, output_dim=1)  # XX to liczba cech wejściowych\n",
    "model.load_state_dict(checkpoint['model_state_dict'])\n",
    "model.to(device)\n"
   ]
  },
  {
   "cell_type": "code",
   "execution_count": 19,
   "id": "062d35d0-839b-4d51-9f62-166426199479",
   "metadata": {},
   "outputs": [
    {
     "data": {
      "text/plain": [
       "<All keys matched successfully>"
      ]
     },
     "execution_count": 19,
     "metadata": {},
     "output_type": "execute_result"
    }
   ],
   "source": [
    "model.load_state_dict(checkpoint['model_state_dict'])\n"
   ]
  },
  {
   "cell_type": "code",
   "execution_count": 21,
   "id": "dcd02ff5-9fff-4fc0-8f61-bb347a1be027",
   "metadata": {},
   "outputs": [
    {
     "name": "stdout",
     "output_type": "stream",
     "text": [
      "[[6.618538]]\n"
     ]
    }
   ],
   "source": [
    "import pandas as pd\n",
    "import torch\n",
    "from joblib import load\n",
    "\n",
    "# Zakładamy, że masz już wczytany model i jest on gotowy do użycia, a także że 'device' jest zdefiniowane\n",
    "\n",
    "# Odtworzenie skalera z zapisanego pliku\n",
    "scaler = load('scaler.joblib')\n",
    "\n",
    "# Wczytywanie nowego pliku danych\n",
    "new_data = pd.read_excel('radecki_dollyo_prawe_event_1.xlsx')\n",
    "\n",
    "# Usuwanie kolumn, które nie były używane podczas skalowania i dopasowywania modelu\n",
    "new_data_prepared = new_data.drop(['Time', 'Total_GRF'], axis=1)\n",
    "\n",
    "# Upewnienie się, że kolumny są w tej samej kolejności, co podczas dopasowania skalera\n",
    "new_data_prepared = new_data_prepared[feature_columns]\n",
    "\n",
    "# Przeskalowanie nowych danych przy użyciu wcześniej dopasowanego skalera\n",
    "new_data_scaled = scaler.transform(new_data_prepared)\n",
    "\n",
    "# Konwersja przeskalowanych danych do tensora PyTorch\n",
    "# Dodajemy .unsqueeze(0) jeśli przetwarzamy pojedynczy przykład, aby dodać wymiar batchu\n",
    "new_data_scaled_tensor = torch.tensor(new_data_scaled, dtype=torch.float32).to(device).unsqueeze(0)\n",
    "\n",
    "# Wykonanie predykcji\n",
    "model.eval()  # Przełączenie modelu w tryb ewaluacji\n",
    "with torch.no_grad():  # Wyłączenie obliczania gradientów\n",
    "    predictions = model(new_data_scaled_tensor).cpu().numpy()\n",
    "\n",
    "# Wyświetlenie predykcji\n",
    "print(predictions)\n"
   ]
  },
  {
   "cell_type": "code",
   "execution_count": null,
   "id": "575a0dd2-6ed8-4e4b-a242-0ac41cf7d245",
   "metadata": {},
   "outputs": [],
   "source": [
    "# Załaduj skalera\n",
    "scaler = load('scaler.joblib')\n",
    "\n",
    "# Weź próbkę danych treningowych i przeskaluj je\n",
    "sample_features = features.iloc[:5]  # Przykładowe wiersze z danych treningowych\n",
    "sample_features_scaled = scaler.transform(sample_features)\n",
    "\n",
    "print(\"Przeskalowane cechy próbki:\")\n",
    "print(sample_features_scaled)\n"
   ]
  },
  {
   "cell_type": "code",
   "execution_count": null,
   "id": "dcc4d1f2-2ef7-41c4-8cec-b871f651d021",
   "metadata": {},
   "outputs": [],
   "source": [
    "# Konwersja przeskalowanych cech próbki do tensora PyTorch\n",
    "sample_features_tensor = torch.tensor(sample_features_scaled, dtype=torch.float32).to(device).unsqueeze(0)\n",
    "\n",
    "# Wykonaj predykcję na próbce\n",
    "model.eval()\n",
    "with torch.no_grad():\n",
    "    sample_predictions = model(sample_features_tensor).cpu().numpy()\n",
    "\n",
    "print(\"Predykcje dla próbki danych treningowych:\")\n",
    "print(sample_predictions)\n"
   ]
  },
  {
   "cell_type": "code",
   "execution_count": null,
   "id": "1d5129d7-0af3-4290-b699-5460b76959e1",
   "metadata": {},
   "outputs": [],
   "source": [
    "# Załóżmy, że masz dane walidacyjne X_val_tensor i y_val_tensor\n",
    "model.eval()\n",
    "with torch.no_grad():\n",
    "    predictions_train = model(X_train_tensor).cpu().numpy()\n",
    "    predictions_val = model(X_test_tensor).cpu().numpy()\n",
    "\n",
    "# Możesz obliczyć metryki, takie jak MSE, dla tych predykcji\n",
    "from sklearn.metrics import mean_squared_error\n",
    "\n",
    "mse_train = mean_squared_error(y_train, predictions_train)\n",
    "mse_val = mean_squared_error(y_test, predictions_val)\n",
    "\n",
    "print(f\"MSE dla danych treningowych: {mse_train}\")\n",
    "print(f\"MSE dla danych walidacyjnych: {mse_val}\")\n"
   ]
  },
  {
   "cell_type": "code",
   "execution_count": null,
   "id": "6e07ce96-2f7d-4a2f-aceb-b6fea2754299",
   "metadata": {},
   "outputs": [],
   "source": [
    "# Przykład użycia skalera do przeskalowania nowych danych\n",
    "features = df[feature_columns]  # Tylko cechy do przeskalowania\n",
    "target = df['Total_GRF']  # Zmienna docelowa\n",
    "\n",
    "# Skalowanie tylko cech\n",
    "from joblib import dump, load\n",
    "\n",
    "# Zapisanie skalera\n",
    "dump(scaler, 'scaler.joblib') \n",
    "\n",
    "# Odtworzenie skalera\n",
    "scaler = load('scaler.joblib')\n",
    "\n",
    "features_scaled = scaler.fit_transform(features)\n",
    "target_scaled = target.values.reshape(-1, 1)\n",
    "new_data = pd.read_excel('agata_dollyo_lewa_event_1.xlsx')  # Załaduj nowe dane\n",
    "# Usuń kolumny 'Time' i 'Total_GRF', które nie były używane podczas dopasowywania skalera\n",
    "new_data_prepared = new_data.drop(['Time', 'Total_GRF'], axis=1)\n",
    "\n",
    "# Upewnij się, że kolumny są w tej samej kolejności, co podczas dopasowania skalera\n",
    "new_data_prepared = new_data_prepared[feature_columns]\n",
    "\n",
    "# Przeskaluj dane\n",
    "new_data_scaled = scaler.transform(new_data_prepared)\n",
    "\n",
    "# Konwersja przeskalowanych danych do tensora PyTorch\n",
    "new_data_scaled_tensor = torch.tensor(new_data_scaled, dtype=torch.float32).to(device)\n",
    "\n",
    "if new_data_scaled_tensor.dim() == 2:\n",
    "    new_data_scaled_tensor = new_data_scaled_tensor.unsqueeze(0) \n",
    "# Wykonaj predykcję\n",
    "model.eval()\n",
    "with torch.no_grad():\n",
    "    predictions = model(new_data_scaled_tensor).cpu().numpy()\n",
    "\n",
    "# Wyświetlenie predykcji\n",
    "print(predictions)"
   ]
  },
  {
   "cell_type": "code",
   "execution_count": null,
   "id": "9daef75a-509f-4301-8330-10f82cd22061",
   "metadata": {},
   "outputs": [],
   "source": [
    "# Sprawdzenie, czy checkpoint zawiera informacje o skalowaniu\n",
    "if 'scaler_state_dict' in checkpoint:\n",
    "    # Odtworzenie stanu skalera\n",
    "    scaler_mean = checkpoint['scaler_state_dict']['mean']\n",
    "    scaler_var = checkpoint['scaler_state_dict']['var']\n",
    "    scaler = StandardScaler()\n",
    "    scaler.mean_ = np.array(scaler_mean)\n",
    "    scaler.var_ = np.array(scaler_var)\n",
    "    scaler.scale_ = np.sqrt(scaler.var_)\n",
    "    if 'n_samples_seen_' in checkpoint['scaler_state_dict']:\n",
    "        scaler.n_samples_seen_ = checkpoint['scaler_state_dict']['n_samples_seen_']\n",
    "else:\n",
    "    print(\"Checkpoint nie zawiera danych skalera.\")\n",
    "\n"
   ]
  },
  {
   "cell_type": "code",
   "execution_count": null,
   "id": "8647e837-1f0a-488a-a6d7-6fdc3ee5ef34",
   "metadata": {},
   "outputs": [],
   "source": [
    "import load_model\n",
    "# Load the model\n",
    "model = load_model('model_and_scaler.pth')\n",
    "\n",
    "# Assuming X_new is your new data prepared in the same way as the training data\n",
    "# For example, you might need to scale the data similarly and reshape it for LSTM input\n",
    "\n",
    "# Use the loaded model to make predictions\n",
    "predictions = model.predict(radecki_dollyo_trad_l_event_3.xlsx)\n",
    "\n",
    "# Process the predictions as needed"
   ]
  },
  {
   "cell_type": "code",
   "execution_count": null,
   "id": "14e97d90-788b-4239-aebe-b91fb745cfbb",
   "metadata": {},
   "outputs": [],
   "source": [
    "scaler = StandardScaler()\n",
    "checkpoint = torch.load('model_and_scaler.pth')\n",
    "model.load_state_dict(checkpoint['model_state_dict'])\n",
    "scaler = checkpoint['scaler']\n"
   ]
  },
  {
   "cell_type": "code",
   "execution_count": null,
   "id": "a73bd58b-81d0-4b35-b07a-78321049d761",
   "metadata": {},
   "outputs": [],
   "source": [
    "# Ładowanie modelu i parametrów skalowania\n",
    "checkpoint = torch.load('model_and_scaler.pth')\n",
    "\n",
    "# Odtwarzanie modelu\n",
    "model = LSTMModel(input_dim=X_train.shape[2], hidden_dim=50, num_layers=1, output_dim=1)\n",
    "model.load_state_dict(checkpoint['model_state_dict'])\n",
    "model.to(device)\n",
    "\n",
    "# Odtwarzanie skalera\n",
    "scaler = checkpoint['scaler_state_dict']\n"
   ]
  },
  {
   "cell_type": "code",
   "execution_count": null,
   "id": "c0872eae-d7b0-43c8-8849-80b29970167c",
   "metadata": {},
   "outputs": [],
   "source": [
    "# Wczytanie zmodyfikowanego pliku Excel do DataFrame\n",
    "new_df = pd.read_excel('maja_dollyo_prawe_tarcza_modified_event_1.xlsx')\n",
    "\n",
    "# Wyświetlenie nazw kolumn, aby upewnić się, że są zgodne z oczekiwaniami\n",
    "print(new_df.columns.tolist())\n",
    "\n"
   ]
  },
  {
   "cell_type": "code",
   "execution_count": null,
   "id": "10ba6fa5-b763-4621-8d63-32739cff9632",
   "metadata": {},
   "outputs": [],
   "source": [
    "# Wybór cech z DataFrame przy użyciu pierwotnie zdefiniowanych feature_columns\n",
    "new_features = new_df[feature_columns]\n",
    "\n",
    "# Skalowanie cech przy użyciu wcześniej załadowanego skalera\n",
    "new_features_scaled = scaler.transform(new_features)\n"
   ]
  },
  {
   "cell_type": "code",
   "execution_count": null,
   "id": "ed81e321-0132-447c-8fa6-fb03504e9a10",
   "metadata": {},
   "outputs": [],
   "source": [
    "# Zakładając, że funkcja create_sequences jest zdefiniowana i time_steps jest ustalony\n",
    "X_new, _ = create_sequences(new_features_scaled, np.zeros(len(new_features_scaled)), time_steps=3)\n",
    "\n",
    "# Konwersja do tensorów PyTorch\n",
    "X_new_tensor = torch.tensor(X_new, dtype=torch.float32).to(device)\n"
   ]
  },
  {
   "cell_type": "code",
   "execution_count": null,
   "id": "73d1a936-be96-4701-af31-c9c5a146fe88",
   "metadata": {},
   "outputs": [],
   "source": [
    "# Ustawienie modelu na tryb ewaluacji i wykonanie predykcji\n",
    "model.eval()\n",
    "with torch.no_grad():\n",
    "    predictions = model(X_new_tensor).cpu().numpy()\n",
    "\n",
    "# Wyniki predykcji\n",
    "print(predictions)\n"
   ]
  },
  {
   "cell_type": "code",
   "execution_count": null,
   "id": "5e185480-d771-4086-9f85-3880ba23aea2",
   "metadata": {},
   "outputs": [],
   "source": []
  },
  {
   "cell_type": "code",
   "execution_count": null,
   "id": "0157437f-846c-4971-a4c5-6ac3f51f6e92",
   "metadata": {},
   "outputs": [],
   "source": []
  }
 ],
 "metadata": {
  "kernelspec": {
   "display_name": "Python 3 (ipykernel)",
   "language": "python",
   "name": "python3"
  },
  "language_info": {
   "codemirror_mode": {
    "name": "ipython",
    "version": 3
   },
   "file_extension": ".py",
   "mimetype": "text/x-python",
   "name": "python",
   "nbconvert_exporter": "python",
   "pygments_lexer": "ipython3",
   "version": "3.11.5"
  }
 },
 "nbformat": 4,
 "nbformat_minor": 5
}
